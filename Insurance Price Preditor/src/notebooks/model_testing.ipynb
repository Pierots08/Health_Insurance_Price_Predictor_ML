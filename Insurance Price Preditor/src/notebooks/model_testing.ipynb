{
 "cells": [
  {
   "cell_type": "markdown",
   "metadata": {},
   "source": [
    "## Creating, Fitting and Testing Models"
   ]
  },
  {
   "cell_type": "markdown",
   "metadata": {},
   "source": [
    "We will create the following models:\n",
    "\n",
    "* LinearRegression\n",
    "* PolynomicalRegression\n",
    "* Lasso\n",
    "* Ridge\n",
    "* DecisionTree\n",
    "* RandomForest\n",
    "* SVM\n",
    "* KNN\n",
    "\n",
    "Each model well be created and trained twice, once using the data as is and again with a standarization of the data to see the difference in  each type of model.\n",
    "\n",
    "We will show the Predictions of each one aswell as the MAE, MSE, RMSE and Score."
   ]
  },
  {
   "cell_type": "code",
   "execution_count": 2,
   "metadata": {},
   "outputs": [],
   "source": [
    "import pandas as pd\n",
    "import numpy as np\n",
    "import matplotlib.pyplot as plt\n",
    "import seaborn as sns\n",
    "import warnings\n",
    "warnings.filterwarnings('ignore')"
   ]
  },
  {
   "cell_type": "code",
   "execution_count": 3,
   "metadata": {},
   "outputs": [],
   "source": [
    "#We load the data from the treated CSV file\n",
    "#Note that as this is a regression problem, we transformed the categorical values \n",
    "#to numerical values with get_dummies in the Data.ipynb file, and in the treated CSV file we previously\n",
    "#dropped all the categorical values \n",
    "df = pd.read_csv(\"../data/processed/Insurance_treated_data.csv\")"
   ]
  },
  {
   "cell_type": "code",
   "execution_count": 4,
   "metadata": {},
   "outputs": [
    {
     "data": {
      "text/html": [
       "<div>\n",
       "<style scoped>\n",
       "    .dataframe tbody tr th:only-of-type {\n",
       "        vertical-align: middle;\n",
       "    }\n",
       "\n",
       "    .dataframe tbody tr th {\n",
       "        vertical-align: top;\n",
       "    }\n",
       "\n",
       "    .dataframe thead th {\n",
       "        text-align: right;\n",
       "    }\n",
       "</style>\n",
       "<table border=\"1\" class=\"dataframe\">\n",
       "  <thead>\n",
       "    <tr style=\"text-align: right;\">\n",
       "      <th></th>\n",
       "      <th>Unnamed: 0</th>\n",
       "      <th>age</th>\n",
       "      <th>sex_male</th>\n",
       "      <th>smoker_yes</th>\n",
       "      <th>bmi</th>\n",
       "      <th>children</th>\n",
       "      <th>charges</th>\n",
       "    </tr>\n",
       "  </thead>\n",
       "  <tbody>\n",
       "    <tr>\n",
       "      <th>0</th>\n",
       "      <td>0</td>\n",
       "      <td>21.0</td>\n",
       "      <td>1</td>\n",
       "      <td>0</td>\n",
       "      <td>25.745000</td>\n",
       "      <td>2</td>\n",
       "      <td>3279.868550</td>\n",
       "    </tr>\n",
       "    <tr>\n",
       "      <th>1</th>\n",
       "      <td>1</td>\n",
       "      <td>37.0</td>\n",
       "      <td>0</td>\n",
       "      <td>1</td>\n",
       "      <td>25.744165</td>\n",
       "      <td>3</td>\n",
       "      <td>21454.494239</td>\n",
       "    </tr>\n",
       "    <tr>\n",
       "      <th>2</th>\n",
       "      <td>2</td>\n",
       "      <td>18.0</td>\n",
       "      <td>1</td>\n",
       "      <td>0</td>\n",
       "      <td>30.030000</td>\n",
       "      <td>1</td>\n",
       "      <td>1720.353700</td>\n",
       "    </tr>\n",
       "    <tr>\n",
       "      <th>3</th>\n",
       "      <td>3</td>\n",
       "      <td>37.0</td>\n",
       "      <td>1</td>\n",
       "      <td>0</td>\n",
       "      <td>30.676891</td>\n",
       "      <td>3</td>\n",
       "      <td>6801.437542</td>\n",
       "    </tr>\n",
       "    <tr>\n",
       "      <th>4</th>\n",
       "      <td>4</td>\n",
       "      <td>58.0</td>\n",
       "      <td>1</td>\n",
       "      <td>0</td>\n",
       "      <td>32.010000</td>\n",
       "      <td>1</td>\n",
       "      <td>11946.625900</td>\n",
       "    </tr>\n",
       "  </tbody>\n",
       "</table>\n",
       "</div>"
      ],
      "text/plain": [
       "   Unnamed: 0   age  sex_male  smoker_yes        bmi  children       charges\n",
       "0           0  21.0         1           0  25.745000         2   3279.868550\n",
       "1           1  37.0         0           1  25.744165         3  21454.494239\n",
       "2           2  18.0         1           0  30.030000         1   1720.353700\n",
       "3           3  37.0         1           0  30.676891         3   6801.437542\n",
       "4           4  58.0         1           0  32.010000         1  11946.625900"
      ]
     },
     "execution_count": 4,
     "metadata": {},
     "output_type": "execute_result"
    }
   ],
   "source": [
    "df.head()"
   ]
  },
  {
   "cell_type": "code",
   "execution_count": 5,
   "metadata": {},
   "outputs": [],
   "source": [
    "#as can happen sometimes when loading a CSV file, the Unnamed column is created, we drop it\n",
    "df.drop(['Unnamed: 0'],1, inplace=True)"
   ]
  },
  {
   "cell_type": "code",
   "execution_count": 6,
   "metadata": {},
   "outputs": [
    {
     "data": {
      "text/html": [
       "<div>\n",
       "<style scoped>\n",
       "    .dataframe tbody tr th:only-of-type {\n",
       "        vertical-align: middle;\n",
       "    }\n",
       "\n",
       "    .dataframe tbody tr th {\n",
       "        vertical-align: top;\n",
       "    }\n",
       "\n",
       "    .dataframe thead th {\n",
       "        text-align: right;\n",
       "    }\n",
       "</style>\n",
       "<table border=\"1\" class=\"dataframe\">\n",
       "  <thead>\n",
       "    <tr style=\"text-align: right;\">\n",
       "      <th></th>\n",
       "      <th>age</th>\n",
       "      <th>sex_male</th>\n",
       "      <th>smoker_yes</th>\n",
       "      <th>bmi</th>\n",
       "      <th>children</th>\n",
       "      <th>charges</th>\n",
       "    </tr>\n",
       "  </thead>\n",
       "  <tbody>\n",
       "    <tr>\n",
       "      <th>0</th>\n",
       "      <td>21.0</td>\n",
       "      <td>1</td>\n",
       "      <td>0</td>\n",
       "      <td>25.745000</td>\n",
       "      <td>2</td>\n",
       "      <td>3279.868550</td>\n",
       "    </tr>\n",
       "    <tr>\n",
       "      <th>1</th>\n",
       "      <td>37.0</td>\n",
       "      <td>0</td>\n",
       "      <td>1</td>\n",
       "      <td>25.744165</td>\n",
       "      <td>3</td>\n",
       "      <td>21454.494239</td>\n",
       "    </tr>\n",
       "    <tr>\n",
       "      <th>2</th>\n",
       "      <td>18.0</td>\n",
       "      <td>1</td>\n",
       "      <td>0</td>\n",
       "      <td>30.030000</td>\n",
       "      <td>1</td>\n",
       "      <td>1720.353700</td>\n",
       "    </tr>\n",
       "    <tr>\n",
       "      <th>3</th>\n",
       "      <td>37.0</td>\n",
       "      <td>1</td>\n",
       "      <td>0</td>\n",
       "      <td>30.676891</td>\n",
       "      <td>3</td>\n",
       "      <td>6801.437542</td>\n",
       "    </tr>\n",
       "    <tr>\n",
       "      <th>4</th>\n",
       "      <td>58.0</td>\n",
       "      <td>1</td>\n",
       "      <td>0</td>\n",
       "      <td>32.010000</td>\n",
       "      <td>1</td>\n",
       "      <td>11946.625900</td>\n",
       "    </tr>\n",
       "  </tbody>\n",
       "</table>\n",
       "</div>"
      ],
      "text/plain": [
       "    age  sex_male  smoker_yes        bmi  children       charges\n",
       "0  21.0         1           0  25.745000         2   3279.868550\n",
       "1  37.0         0           1  25.744165         3  21454.494239\n",
       "2  18.0         1           0  30.030000         1   1720.353700\n",
       "3  37.0         1           0  30.676891         3   6801.437542\n",
       "4  58.0         1           0  32.010000         1  11946.625900"
      ]
     },
     "execution_count": 6,
     "metadata": {},
     "output_type": "execute_result"
    }
   ],
   "source": [
    "df.head()"
   ]
  },
  {
   "cell_type": "code",
   "execution_count": 7,
   "metadata": {},
   "outputs": [],
   "source": [
    "#We select our X (Features) and Y (Target) in this case as we want to determine the\n",
    "#price of the insurance policy \"charges\" will be our target, we will compare it with \n",
    "#all the others characteristics of the costumers.\n",
    "X = df.iloc[:, :-1]\n",
    "y = df[\"charges\"]"
   ]
  },
  {
   "cell_type": "code",
   "execution_count": 8,
   "metadata": {},
   "outputs": [],
   "source": [
    "#We do the Split and we get both our Train and Test sets.\n",
    "from sklearn.model_selection import train_test_split\n",
    "X_train, X_test, y_train, y_test = train_test_split(X,y, test_size=0.2, random_state=42)"
   ]
  },
  {
   "cell_type": "code",
   "execution_count": 9,
   "metadata": {},
   "outputs": [
    {
     "name": "stdout",
     "output_type": "stream",
     "text": [
      "(2904, 5)\n",
      "(726, 5)\n",
      "(2904,)\n",
      "(726,)\n"
     ]
    }
   ],
   "source": [
    "print(X_train.shape)\n",
    "print(X_test.shape)\n",
    "print(y_train.shape)\n",
    "print(y_test.shape)"
   ]
  },
  {
   "cell_type": "markdown",
   "metadata": {},
   "source": [
    "## MODELING"
   ]
  },
  {
   "cell_type": "code",
   "execution_count": 10,
   "metadata": {},
   "outputs": [],
   "source": [
    "#We import all the libraries related to the models:\n",
    "from sklearn.model_selection import train_test_split\n",
    "from sklearn.metrics import mean_absolute_error, mean_squared_error, r2_score\n",
    "from sklearn.linear_model import LinearRegression\n",
    "from sklearn.preprocessing import PolynomialFeatures \n",
    "from sklearn.linear_model import Lasso\n",
    "from sklearn.linear_model import Ridge\n",
    "from sklearn.tree import DecisionTreeRegressor\n",
    "from sklearn.ensemble import RandomForestRegressor\n",
    "from sklearn import svm\n",
    "from sklearn.neighbors import KNeighborsRegressor\n",
    "import numpy as np\n",
    "from sklearn.model_selection import GridSearchCV\n",
    "from sklearn.pipeline import make_pipeline"
   ]
  },
  {
   "cell_type": "markdown",
   "metadata": {},
   "source": [
    "### LINEAR REGRESSION"
   ]
  },
  {
   "cell_type": "markdown",
   "metadata": {},
   "source": [
    "First we will start with a regular lineal regression using the prices (charges) as the dependent variable."
   ]
  },
  {
   "cell_type": "code",
   "execution_count": 11,
   "metadata": {},
   "outputs": [],
   "source": [
    "lin_reg = LinearRegression()\n",
    "lin_reg = lin_reg.fit(X_train, y_train)"
   ]
  },
  {
   "cell_type": "markdown",
   "metadata": {},
   "source": [
    "Linear Regression Predictions Scores:"
   ]
  },
  {
   "cell_type": "code",
   "execution_count": 12,
   "metadata": {},
   "outputs": [
    {
     "name": "stdout",
     "output_type": "stream",
     "text": [
      "The model performance:\n",
      "-------------------------------\n",
      "SCORE: 0.7166401269119228\n",
      "MAE: 3827.2299645835415\n",
      "MSE: 32646918.480969243\n",
      "RMSE: 5713.748198946926\n"
     ]
    }
   ],
   "source": [
    "predictions = lin_reg.predict(X_test)\n",
    "print('The model performance:' ) \n",
    "print('-------------------------------')\n",
    "print('SCORE:', lin_reg.score(X_test, y_test))\n",
    "print('MAE:', mean_absolute_error(y_test, predictions))\n",
    "print('MSE:', mean_squared_error(y_test, predictions))\n",
    "print('RMSE:', np.sqrt(mean_squared_error(y_test, predictions)))"
   ]
  },
  {
   "cell_type": "code",
   "execution_count": 13,
   "metadata": {},
   "outputs": [
    {
     "data": {
      "image/png": "[encoded data removed]",
      "text/plain": [
       "<Figure size 432x288 with 1 Axes>"
      ]
     },
     "metadata": {
      "needs_background": "light"
     },
     "output_type": "display_data"
    }
   ],
   "source": [
    "#Ideally it should plot a 45 degree line if the models was \"perfect\", nonetheless we see that it it's not. \n",
    "y_pred = lin_reg.predict(X_test)\n",
    "sns.regplot(y_test, y_pred);"
   ]
  },
  {
   "cell_type": "markdown",
   "metadata": {},
   "source": [
    "### POLYNOMIAL REGRESSION"
   ]
  },
  {
   "cell_type": "markdown",
   "metadata": {},
   "source": [
    "We continue with a Polynomial Regression to see if there is a non-linear relationship between the independent and dependent variables"
   ]
  },
  {
   "cell_type": "code",
   "execution_count": 14,
   "metadata": {},
   "outputs": [
    {
     "data": {
      "text/plain": [
       "LinearRegression()"
      ]
     },
     "execution_count": 14,
     "metadata": {},
     "output_type": "execute_result"
    }
   ],
   "source": [
    "poly_reg = PolynomialFeatures(degree=2)\n",
    "poly_reg.fit(X_train), \n",
    "X_poly = poly_reg.transform(X_train)\n",
    "\n",
    "pol_reg = LinearRegression()\n",
    "pol_reg.fit(X_poly, y_train)"
   ]
  },
  {
   "cell_type": "code",
   "execution_count": 15,
   "metadata": {},
   "outputs": [],
   "source": [
    "X_poly_test = poly_reg.transform(X_test)"
   ]
  },
  {
   "cell_type": "markdown",
   "metadata": {},
   "source": [
    "Polynomial Regression Prediction Scores:"
   ]
  },
  {
   "cell_type": "code",
   "execution_count": 16,
   "metadata": {},
   "outputs": [
    {
     "name": "stdout",
     "output_type": "stream",
     "text": [
      "The model performance:\n",
      "-------------------------------\n",
      "SCORE: 0.8002352605879072\n",
      "MAE: 2948.802887077854\n",
      "MSE: 23015620.002524164\n",
      "RMSE: 4797.459744752859\n"
     ]
    }
   ],
   "source": [
    "predictions = pol_reg.predict(X_poly_test)\n",
    "print('The model performance:' ) \n",
    "print('-------------------------------')\n",
    "print('SCORE:', pol_reg.score(X_poly_test, y_test))\n",
    "print('MAE:', mean_absolute_error(y_test, predictions))\n",
    "print('MSE:', mean_squared_error(y_test, predictions))\n",
    "print('RMSE:', np.sqrt(mean_squared_error(y_test, predictions)))"
   ]
  },
  {
   "cell_type": "markdown",
   "metadata": {},
   "source": [
    "### LASSO"
   ]
  },
  {
   "cell_type": "markdown",
   "metadata": {},
   "source": [
    "Now we will use a lasso model, this model is used to obtain the subset of predictors that minimizes prediction error for a quantitative response variable"
   ]
  },
  {
   "cell_type": "code",
   "execution_count": 17,
   "metadata": {},
   "outputs": [],
   "source": [
    "Lasso = Lasso()\n",
    "Lasso = Lasso.fit(X_train, y_train)"
   ]
  },
  {
   "cell_type": "markdown",
   "metadata": {},
   "source": [
    "Lasso Predictions:"
   ]
  },
  {
   "cell_type": "code",
   "execution_count": 18,
   "metadata": {},
   "outputs": [
    {
     "name": "stdout",
     "output_type": "stream",
     "text": [
      "The model performance:\n",
      "-------------------------------\n",
      "SCORE: 0.7166012197630451\n",
      "MAE: 3827.922279590007\n",
      "MSE: 32651401.114674192\n",
      "RMSE: 5714.140452830521\n"
     ]
    }
   ],
   "source": [
    "predictions = Lasso.predict(X_test)\n",
    "print('The model performance:' ) \n",
    "print('-------------------------------')\n",
    "print('SCORE:', Lasso.score(X_test, y_test))\n",
    "print('MAE:', mean_absolute_error(y_test, predictions))\n",
    "print('MSE:', mean_squared_error(y_test, predictions))\n",
    "print('RMSE:', np.sqrt(mean_squared_error(y_test, predictions)))"
   ]
  },
  {
   "cell_type": "markdown",
   "metadata": {},
   "source": [
    "### RIDGE"
   ]
  },
  {
   "cell_type": "markdown",
   "metadata": {},
   "source": [
    "Ridge is used to see if, by analyzing multiple regression data, this suffer from multicollinearity and adds a degree of bias to the regression estimates, ridge regression reduces the standard errors"
   ]
  },
  {
   "cell_type": "code",
   "execution_count": 19,
   "metadata": {},
   "outputs": [],
   "source": [
    "Ridge = Ridge()\n",
    "Ridge = Ridge.fit(X_train, y_train)"
   ]
  },
  {
   "cell_type": "markdown",
   "metadata": {},
   "source": [
    "Ridge Predictions:"
   ]
  },
  {
   "cell_type": "code",
   "execution_count": 20,
   "metadata": {},
   "outputs": [
    {
     "name": "stdout",
     "output_type": "stream",
     "text": [
      "The model performance:\n",
      "-------------------------------\n",
      "SCORE: 0.7164797946182013\n",
      "MAE: 3832.446737826939\n",
      "MSE: 32665390.94591619\n",
      "RMSE: 5715.364463086863\n"
     ]
    }
   ],
   "source": [
    "predictions = Ridge.predict(X_test)\n",
    "print('The model performance:' ) \n",
    "print('-------------------------------')\n",
    "print('SCORE:', Ridge.score(X_test, y_test))\n",
    "print('MAE:', mean_absolute_error(y_test, predictions))\n",
    "print('MSE:', mean_squared_error(y_test, predictions))\n",
    "print('RMSE:', np.sqrt(mean_squared_error(y_test, predictions)))"
   ]
  },
  {
   "cell_type": "markdown",
   "metadata": {},
   "source": [
    "### Decision Tree Regressor"
   ]
  },
  {
   "cell_type": "markdown",
   "metadata": {},
   "source": [
    "The ide of using a Decision Tree Regressor is to break down the dataset into smaller and smaller subsets while at the same time an associated decision tree is incrementally developed."
   ]
  },
  {
   "cell_type": "code",
   "execution_count": 21,
   "metadata": {},
   "outputs": [
    {
     "data": {
      "text/plain": [
       "DecisionTreeRegressor()"
      ]
     },
     "execution_count": 21,
     "metadata": {},
     "output_type": "execute_result"
    }
   ],
   "source": [
    "dtr = DecisionTreeRegressor()\n",
    "dtr.fit(X_train, y_train)"
   ]
  },
  {
   "cell_type": "markdown",
   "metadata": {},
   "source": [
    "Decision Tree Predicitions:"
   ]
  },
  {
   "cell_type": "code",
   "execution_count": 22,
   "metadata": {},
   "outputs": [
    {
     "name": "stdout",
     "output_type": "stream",
     "text": [
      "The model performance:\n",
      "-------------------------------\n",
      "SCORE: 0.8152301617829547\n",
      "MAE: 1527.1297253847088\n",
      "MSE: 21288003.06223586\n",
      "RMSE: 4613.892398207381\n"
     ]
    }
   ],
   "source": [
    "predictions = dtr.predict(X_test)\n",
    "print('The model performance:' ) \n",
    "print('-------------------------------')\n",
    "print('SCORE:', dtr.score(X_test, y_test))\n",
    "print('MAE:', mean_absolute_error(y_test, predictions))\n",
    "print('MSE:', mean_squared_error(y_test, predictions))\n",
    "print('RMSE:', np.sqrt(mean_squared_error(y_test, predictions)))"
   ]
  },
  {
   "cell_type": "markdown",
   "metadata": {},
   "source": [
    "### Random Forest Regressor"
   ]
  },
  {
   "cell_type": "markdown",
   "metadata": {},
   "source": [
    "We try a Random Forest Regressor as it provides higher accuracy through cross validation. Random forest classifier will handle the missing values and maintain the accuracy of a large proportion of data."
   ]
  },
  {
   "cell_type": "code",
   "execution_count": 23,
   "metadata": {},
   "outputs": [
    {
     "data": {
      "text/plain": [
       "RandomForestRegressor(max_depth=2, random_state=0)"
      ]
     },
     "execution_count": 23,
     "metadata": {},
     "output_type": "execute_result"
    }
   ],
   "source": [
    "rf = RandomForestRegressor(max_depth=2, random_state=0)\n",
    "rf.fit(X_train, y_train)"
   ]
  },
  {
   "cell_type": "markdown",
   "metadata": {},
   "source": [
    "Random Forest Predictions:"
   ]
  },
  {
   "cell_type": "code",
   "execution_count": 24,
   "metadata": {},
   "outputs": [
    {
     "name": "stdout",
     "output_type": "stream",
     "text": [
      "The model performance:\n",
      "-------------------------------\n",
      "SCORE: 0.7581842765526131\n",
      "MAE: 3395.583009302942\n",
      "MSE: 27860466.355974015\n",
      "RMSE: 5278.301465052372\n"
     ]
    }
   ],
   "source": [
    "predictions = rf.predict(X_test)\n",
    "print('The model performance:' ) \n",
    "print('-------------------------------')\n",
    "print('SCORE:', rf.score(X_test, y_test))\n",
    "print('MAE:', mean_absolute_error(y_test, predictions))\n",
    "print('MSE:', mean_squared_error(y_test, predictions))\n",
    "print('RMSE:', np.sqrt(mean_squared_error(y_test, predictions)))"
   ]
  },
  {
   "cell_type": "markdown",
   "metadata": {},
   "source": [
    "### Support Vector Machine (SVM)"
   ]
  },
  {
   "cell_type": "markdown",
   "metadata": {},
   "source": [
    "The SVM uses a technique called the kernel trick to transform your data and then based on these transformations it finds an optimal boundary between the possible outputs. Simply put, it does some extremely complex data transformations, then figures out how to seperate your data based on the labels or outputs you've defined. This can be used both in Regression and Classification problems, hences it can be used here."
   ]
  },
  {
   "cell_type": "code",
   "execution_count": 25,
   "metadata": {},
   "outputs": [
    {
     "data": {
      "text/plain": [
       "SVR(epsilon=0.2)"
      ]
     },
     "execution_count": 25,
     "metadata": {},
     "output_type": "execute_result"
    }
   ],
   "source": [
    "svr = svm.SVR(C=1.0, epsilon=0.2)\n",
    "svr.fit(X_train, y_train)\n"
   ]
  },
  {
   "cell_type": "markdown",
   "metadata": {},
   "source": [
    "SVM Predictions:"
   ]
  },
  {
   "cell_type": "code",
   "execution_count": 26,
   "metadata": {},
   "outputs": [
    {
     "name": "stdout",
     "output_type": "stream",
     "text": [
      "The model performance:\n",
      "-------------------------------\n",
      "SCORE: -0.09938744777267572\n",
      "MAE: 6894.188003246588\n",
      "MSE: 126664414.39038593\n",
      "RMSE: 11254.528616978409\n"
     ]
    }
   ],
   "source": [
    "predictions = svr.predict(X_test)\n",
    "print('The model performance:' ) \n",
    "print('-------------------------------')\n",
    "print('SCORE:', svr.score(X_test, y_test))\n",
    "print('MAE:', mean_absolute_error(y_test, predictions))\n",
    "print('MSE:', mean_squared_error(y_test, predictions))\n",
    "print('RMSE:', np.sqrt(mean_squared_error(y_test, predictions)))"
   ]
  },
  {
   "cell_type": "markdown",
   "metadata": {},
   "source": [
    "### KNN"
   ]
  },
  {
   "cell_type": "markdown",
   "metadata": {},
   "source": [
    "Since our dataset is relatively small, we can employ KNN as it should classifie new data points based on the similarity measure of the earlier stored data points."
   ]
  },
  {
   "cell_type": "code",
   "execution_count": 27,
   "metadata": {},
   "outputs": [
    {
     "data": {
      "text/plain": [
       "KNeighborsRegressor(n_neighbors=1000)"
      ]
     },
     "execution_count": 27,
     "metadata": {},
     "output_type": "execute_result"
    }
   ],
   "source": [
    "knn = KNeighborsRegressor(n_neighbors=1000)\n",
    "knn.fit(X_train, y_train)\n"
   ]
  },
  {
   "cell_type": "markdown",
   "metadata": {},
   "source": [
    "KNN Predictions:"
   ]
  },
  {
   "cell_type": "code",
   "execution_count": 28,
   "metadata": {},
   "outputs": [
    {
     "name": "stdout",
     "output_type": "stream",
     "text": [
      "The model performance:\n",
      "-------------------------------\n",
      "SCORE: 0.09149885175779215\n",
      "MAE: 7430.9458659919765\n",
      "MSE: 104671711.64108731\n",
      "RMSE: 10230.919393734235\n"
     ]
    }
   ],
   "source": [
    "predictions = knn.predict(X_test)\n",
    "print('The model performance:' ) \n",
    "print('-------------------------------')\n",
    "print('SCORE:', knn.score(X_test, y_test))\n",
    "print('MAE:', mean_absolute_error(y_test, predictions))\n",
    "print('MSE:', mean_squared_error(y_test, predictions))\n",
    "print('RMSE:', np.sqrt(mean_squared_error(y_test, predictions)))"
   ]
  },
  {
   "cell_type": "markdown",
   "metadata": {},
   "source": [
    "### Comparing Model Results:"
   ]
  },
  {
   "cell_type": "markdown",
   "metadata": {},
   "source": [
    "We will now compare the result of each of the models tested with the regular data:"
   ]
  },
  {
   "cell_type": "markdown",
   "metadata": {},
   "source": [
    "* Liner Regression \n",
    "Score: 0.71\n",
    "\n",
    "* Polynomial Regression\n",
    "Score: 0.80\n",
    "\n",
    "* Lasso\n",
    "Score: 0.71\n",
    "\n",
    "* Ridge\n",
    "Score: 0.71\n",
    "\n",
    "* Decision Tree Regressor\n",
    "Score: 0.82\n",
    "\n",
    "* Random Forest Regressor\n",
    "Score: 0.75\n",
    "\n",
    "* SVM\n",
    "Score: -0.09\n",
    "\n",
    "* KNN\n",
    "Score: -1.43"
   ]
  },
  {
   "cell_type": "markdown",
   "metadata": {},
   "source": [
    "We can see that Linear Regression, Lasso and Ridge, obtained similar values, likewise, the Polynomial Regression and the DTR have close values as well, the Random Forest perfomed better than the first 3, but worse than the other two, as for SVM and KNN, the results are the worst, possibly due to the nature of the data and the fact the data has not been standarized.\n",
    "\n",
    "At the moment we will choose the DTR model as the model to use is we are using the regular data, nonetheless we will compare this result with the results of the standarized data models."
   ]
  },
  {
   "cell_type": "markdown",
   "metadata": {},
   "source": [
    "## Now, we will use Standarized Data"
   ]
  },
  {
   "cell_type": "markdown",
   "metadata": {},
   "source": [
    "The data will be standarized using the Standard Scaler Method changing the standard deviation of each value and equaling them to one"
   ]
  },
  {
   "cell_type": "code",
   "execution_count": 29,
   "metadata": {},
   "outputs": [],
   "source": [
    "from numpy import asarray\n",
    "from sklearn.preprocessing import StandardScaler\n",
    "\n",
    "data = df\n",
    "\n",
    "scaler = StandardScaler()\n",
    "# We transform the Data\n",
    "df_scaled = scaler.fit_transform(data)\n",
    "dataset = pd.DataFrame(df_scaled)"
   ]
  },
  {
   "cell_type": "code",
   "execution_count": 30,
   "metadata": {},
   "outputs": [],
   "source": [
    "dataset.rename(columns={0:'age',1:'sex_male',2:'smoker_yes',3:'bmi',4:'children',5:'charges'}, inplace=True)"
   ]
  },
  {
   "cell_type": "code",
   "execution_count": 31,
   "metadata": {},
   "outputs": [],
   "source": [
    "X = dataset.iloc[:, :-1]\n",
    "y = dataset[\"charges\"]"
   ]
  },
  {
   "cell_type": "code",
   "execution_count": 32,
   "metadata": {},
   "outputs": [],
   "source": [
    "# We redo the train/test/split with the standaraized data\n",
    "X_train, X_test, y_train, y_test = train_test_split(X,y, test_size=0.2, random_state=42)"
   ]
  },
  {
   "cell_type": "markdown",
   "metadata": {},
   "source": [
    "### LINEAR REGRESSION"
   ]
  },
  {
   "cell_type": "code",
   "execution_count": 33,
   "metadata": {},
   "outputs": [],
   "source": [
    "lin_reg = LinearRegression()\n",
    "lin_reg = lin_reg.fit(X_train, y_train)"
   ]
  },
  {
   "cell_type": "markdown",
   "metadata": {},
   "source": [
    "Linear Regression Predictions:"
   ]
  },
  {
   "cell_type": "code",
   "execution_count": 34,
   "metadata": {},
   "outputs": [
    {
     "name": "stdout",
     "output_type": "stream",
     "text": [
      "The model performance:\n",
      "-------------------------------\n",
      "SCORE: 0.7166401269119228\n",
      "MAE: 0.3561974545736413\n",
      "MSE: 0.282783914250481\n",
      "RMSE: 0.531774307625407\n"
     ]
    }
   ],
   "source": [
    "predictions = lin_reg.predict(X_test)\n",
    "print('The model performance:' ) \n",
    "print('-------------------------------')\n",
    "print('SCORE:', lin_reg.score(X_test, y_test))\n",
    "print('MAE:', mean_absolute_error(y_test, predictions))\n",
    "print('MSE:', mean_squared_error(y_test, predictions))\n",
    "print('RMSE:', np.sqrt(mean_squared_error(y_test, predictions)))"
   ]
  },
  {
   "cell_type": "code",
   "execution_count": 35,
   "metadata": {},
   "outputs": [
    {
     "data": {
      "image/png": "[encoded data removed]",
      "text/plain": [
       "<Figure size 432x288 with 1 Axes>"
      ]
     },
     "metadata": {
      "needs_background": "light"
     },
     "output_type": "display_data"
    }
   ],
   "source": [
    "y_pred = lin_reg.predict(X_test)\n",
    "sns.regplot(y_test, y_pred);"
   ]
  },
  {
   "cell_type": "markdown",
   "metadata": {},
   "source": [
    "### POLYNOMIAL REGRESSION"
   ]
  },
  {
   "cell_type": "code",
   "execution_count": 36,
   "metadata": {},
   "outputs": [
    {
     "data": {
      "text/plain": [
       "LinearRegression()"
      ]
     },
     "execution_count": 36,
     "metadata": {},
     "output_type": "execute_result"
    }
   ],
   "source": [
    "poly_reg = PolynomialFeatures(degree=2)\n",
    "poly_reg.fit(X_train), \n",
    "X_poly = poly_reg.transform(X_train)\n",
    "\n",
    "pol_reg = LinearRegression()\n",
    "pol_reg.fit(X_poly, y_train)\n"
   ]
  },
  {
   "cell_type": "markdown",
   "metadata": {},
   "source": [
    "Polynomial Regression Prediction Scores:"
   ]
  },
  {
   "cell_type": "code",
   "execution_count": 37,
   "metadata": {},
   "outputs": [
    {
     "name": "stdout",
     "output_type": "stream",
     "text": [
      "The model performance:\n",
      "-------------------------------\n",
      "SCORE: -3.664963297002723e+23\n",
      "MAE: 573904503197.2291\n",
      "MSE: 3.6575138724339934e+23\n",
      "RMSE: 604773831480.3306\n"
     ]
    }
   ],
   "source": [
    "predictions = pol_reg.predict(X_poly_test)\n",
    "print('The model performance:' ) \n",
    "print('-------------------------------')\n",
    "print('SCORE:', pol_reg.score(X_poly_test, y_test))\n",
    "print('MAE:', mean_absolute_error(y_test, predictions))\n",
    "print('MSE:', mean_squared_error(y_test, predictions))\n",
    "print('RMSE:', np.sqrt(mean_squared_error(y_test, predictions)))"
   ]
  },
  {
   "cell_type": "markdown",
   "metadata": {},
   "source": [
    "### LASSO"
   ]
  },
  {
   "cell_type": "code",
   "execution_count": 38,
   "metadata": {},
   "outputs": [],
   "source": [
    "from sklearn.linear_model import Lasso\n",
    "Lasso = Lasso()\n",
    "Lasso = Lasso.fit(X_train, y_train)"
   ]
  },
  {
   "cell_type": "markdown",
   "metadata": {},
   "source": [
    "Lasso Predictions Scores:"
   ]
  },
  {
   "cell_type": "code",
   "execution_count": 39,
   "metadata": {},
   "outputs": [
    {
     "name": "stdout",
     "output_type": "stream",
     "text": [
      "The model performance:\n",
      "-------------------------------\n",
      "SCORE: -3.6374026398222625e-05\n",
      "MAE: 0.7122690305959597\n",
      "MSE: 0.9980036945885473\n",
      "RMSE: 0.9990013486420063\n"
     ]
    }
   ],
   "source": [
    "predictions = Lasso.predict(X_test)\n",
    "print('The model performance:' ) \n",
    "print('-------------------------------')\n",
    "print('SCORE:', Lasso.score(X_test, y_test))\n",
    "print('MAE:', mean_absolute_error(y_test, predictions))\n",
    "print('MSE:', mean_squared_error(y_test, predictions))\n",
    "print('RMSE:', np.sqrt(mean_squared_error(y_test, predictions)))"
   ]
  },
  {
   "cell_type": "markdown",
   "metadata": {},
   "source": [
    "### RIDGE"
   ]
  },
  {
   "cell_type": "code",
   "execution_count": 40,
   "metadata": {},
   "outputs": [],
   "source": [
    "from sklearn.linear_model import Ridge\n",
    "Ridge = Ridge()\n",
    "Ridge = Ridge.fit(X_train, y_train)"
   ]
  },
  {
   "cell_type": "markdown",
   "metadata": {},
   "source": [
    "Ridge Predictions Scores:"
   ]
  },
  {
   "cell_type": "code",
   "execution_count": 41,
   "metadata": {},
   "outputs": [
    {
     "name": "stdout",
     "output_type": "stream",
     "text": [
      "The model performance:\n",
      "-------------------------------\n",
      "SCORE: 0.7166143508381775\n",
      "MAE: 0.35626052230011124\n",
      "MSE: 0.28280963793163694\n",
      "RMSE: 0.5317984937282513\n"
     ]
    }
   ],
   "source": [
    "predictions = Ridge.predict(X_test)\n",
    "print('The model performance:' ) \n",
    "print('-------------------------------')\n",
    "print('SCORE:', Ridge.score(X_test, y_test))\n",
    "print('MAE:', mean_absolute_error(y_test, predictions))\n",
    "print('MSE:', mean_squared_error(y_test, predictions))\n",
    "print('RMSE:', np.sqrt(mean_squared_error(y_test, predictions)))"
   ]
  },
  {
   "cell_type": "markdown",
   "metadata": {},
   "source": [
    "### Decision Tree Regressor"
   ]
  },
  {
   "cell_type": "code",
   "execution_count": 42,
   "metadata": {},
   "outputs": [
    {
     "data": {
      "text/plain": [
       "DecisionTreeRegressor()"
      ]
     },
     "execution_count": 42,
     "metadata": {},
     "output_type": "execute_result"
    }
   ],
   "source": [
    "dtr = DecisionTreeRegressor()\n",
    "dtr.fit(X_train, y_train)"
   ]
  },
  {
   "cell_type": "markdown",
   "metadata": {},
   "source": [
    "Decision Tree Predicitions Scores:"
   ]
  },
  {
   "cell_type": "code",
   "execution_count": 43,
   "metadata": {},
   "outputs": [
    {
     "name": "stdout",
     "output_type": "stream",
     "text": [
      "The model performance:\n",
      "-------------------------------\n",
      "SCORE: 0.819837132665133\n",
      "MAE: 0.13784615068083464\n",
      "MSE: 0.1797966672991409\n",
      "RMSE: 0.42402437111461044\n"
     ]
    }
   ],
   "source": [
    "predictions = dtr.predict(X_test)\n",
    "print('The model performance:' ) \n",
    "print('-------------------------------')\n",
    "print('SCORE:', dtr.score(X_test, y_test))\n",
    "print('MAE:', mean_absolute_error(y_test, predictions))\n",
    "print('MSE:', mean_squared_error(y_test, predictions))\n",
    "print('RMSE:', np.sqrt(mean_squared_error(y_test, predictions)))"
   ]
  },
  {
   "cell_type": "markdown",
   "metadata": {},
   "source": [
    "### Random Forest Regressor"
   ]
  },
  {
   "cell_type": "code",
   "execution_count": 44,
   "metadata": {},
   "outputs": [
    {
     "data": {
      "text/plain": [
       "RandomForestRegressor(max_depth=2, random_state=0)"
      ]
     },
     "execution_count": 44,
     "metadata": {},
     "output_type": "execute_result"
    }
   ],
   "source": [
    "rf = RandomForestRegressor(max_depth=2, random_state=0)\n",
    "rf.fit(X_train, y_train)"
   ]
  },
  {
   "cell_type": "markdown",
   "metadata": {},
   "source": [
    "Random Forest Predictions Scores:"
   ]
  },
  {
   "cell_type": "code",
   "execution_count": 45,
   "metadata": {},
   "outputs": [
    {
     "name": "stdout",
     "output_type": "stream",
     "text": [
      "The model performance:\n",
      "-------------------------------\n",
      "SCORE: 0.7581842765526132\n",
      "MAE: 0.3160243925501415\n",
      "MSE: 0.2413242074770011\n",
      "RMSE: 0.49124760302417875\n"
     ]
    }
   ],
   "source": [
    "predictions = rf.predict(X_test)\n",
    "print('The model performance:' ) \n",
    "print('-------------------------------')\n",
    "print('SCORE:', rf.score(X_test, y_test))\n",
    "print('MAE:', mean_absolute_error(y_test, predictions))\n",
    "print('MSE:', mean_squared_error(y_test, predictions))\n",
    "print('RMSE:', np.sqrt(mean_squared_error(y_test, predictions)))"
   ]
  },
  {
   "cell_type": "markdown",
   "metadata": {},
   "source": [
    "### Support Vector Machine (SVM)"
   ]
  },
  {
   "cell_type": "code",
   "execution_count": 46,
   "metadata": {},
   "outputs": [
    {
     "data": {
      "text/plain": [
       "SVR(epsilon=0.2)"
      ]
     },
     "execution_count": 46,
     "metadata": {},
     "output_type": "execute_result"
    }
   ],
   "source": [
    "svr = svm.SVR(C=1.0, epsilon=0.2)\n",
    "svr.fit(X_train, y_train)\n"
   ]
  },
  {
   "cell_type": "markdown",
   "metadata": {},
   "source": [
    "SVM Predictions Scores:"
   ]
  },
  {
   "cell_type": "code",
   "execution_count": 47,
   "metadata": {},
   "outputs": [
    {
     "name": "stdout",
     "output_type": "stream",
     "text": [
      "The model performance:\n",
      "-------------------------------\n",
      "SCORE: 0.8124478442507077\n",
      "MAE: 0.265500883810115\n",
      "MSE: 0.18717093620526593\n",
      "RMSE: 0.432632564892272\n"
     ]
    }
   ],
   "source": [
    "predictions = svr.predict(X_test)\n",
    "print('The model performance:' ) \n",
    "print('-------------------------------')\n",
    "print('SCORE:', svr.score(X_test, y_test))\n",
    "print('MAE:', mean_absolute_error(y_test, predictions))\n",
    "print('MSE:', mean_squared_error(y_test, predictions))\n",
    "print('RMSE:', np.sqrt(mean_squared_error(y_test, predictions)))"
   ]
  },
  {
   "cell_type": "markdown",
   "metadata": {},
   "source": [
    "### KNN"
   ]
  },
  {
   "cell_type": "code",
   "execution_count": 48,
   "metadata": {},
   "outputs": [
    {
     "data": {
      "text/plain": [
       "KNeighborsRegressor(n_neighbors=1000)"
      ]
     },
     "execution_count": 48,
     "metadata": {},
     "output_type": "execute_result"
    }
   ],
   "source": [
    "knn = KNeighborsRegressor(n_neighbors=1000)\n",
    "knn.fit(X_train, y_train)\n"
   ]
  },
  {
   "cell_type": "markdown",
   "metadata": {},
   "source": [
    "KNN Predictions Scores:"
   ]
  },
  {
   "cell_type": "code",
   "execution_count": 49,
   "metadata": {},
   "outputs": [
    {
     "name": "stdout",
     "output_type": "stream",
     "text": [
      "The model performance:\n",
      "-------------------------------\n",
      "SCORE: 0.391009569821097\n",
      "MAE: 0.4788812217541107\n",
      "MSE: 0.607752592878757\n",
      "RMSE: 0.7795848849732511\n"
     ]
    }
   ],
   "source": [
    "predictions = knn.predict(X_test)\n",
    "print('The model performance:' ) \n",
    "print('-------------------------------')\n",
    "print('SCORE:', knn.score(X_test, y_test))\n",
    "print('MAE:', mean_absolute_error(y_test, predictions))\n",
    "print('MSE:', mean_squared_error(y_test, predictions))\n",
    "print('RMSE:', np.sqrt(mean_squared_error(y_test, predictions)))"
   ]
  },
  {
   "cell_type": "markdown",
   "metadata": {},
   "source": [
    "### Comparing Model Results:"
   ]
  },
  {
   "cell_type": "markdown",
   "metadata": {},
   "source": [
    "Now we compare the perfomarnce of the eight models employed with the Standarized Data:"
   ]
  },
  {
   "cell_type": "markdown",
   "metadata": {},
   "source": [
    "* Liner Regression\n",
    "Score: 0.71\n",
    "\n",
    "* Polynomial Regression\n",
    "Score: 0.80\n",
    "\n",
    "* Lasso\n",
    "Score: -3.63\n",
    "\n",
    "* Ridge\n",
    "Score: 0.71\n",
    "\n",
    "* Decision Tree Regressor\n",
    "Score: 8.83\n",
    "\n",
    "* Random Forest Regressor\n",
    "Score: 0.75\n",
    "\n",
    "* SVM\n",
    "Score: 0.81\n",
    "\n",
    "* KNN\n",
    "Score: 0.39"
   ]
  },
  {
   "cell_type": "markdown",
   "metadata": {},
   "source": [
    "In the case of the standarized data we see that some of the results are prone to errors, specificaly in Lasso, which performed rather poorly compared to the non scaled data Lasso model.\n",
    "\n",
    "Linear Regression, Polynomial Regression, Ridge, Random Forest Regressor, obtained scores similar to the models with non-standardized data.\n",
    "\n",
    "The standarization greatly benefitted both the SVN and KNN models. Both models improved considerably, in fact, the Support Vector Machine model with standardized data has one of the best scores overall, the KNN scores is still bad, but considerably better, showing how sensitive are this models to data scaling issues and outliers.\n",
    "\n",
    "Nonetheless the Decission Tree Regressor is still the best model and with the standarized data it improved its performance even more."
   ]
  },
  {
   "cell_type": "markdown",
   "metadata": {},
   "source": [
    "We now compare all the results together:\n",
    "\n",
    "Regular Data\n",
    "* Liner Regression \n",
    "Score: 0.71\n",
    "\n",
    "* Polynomial Regression\n",
    "Score: 0.80\n",
    "\n",
    "* Lasso\n",
    "Score: 0.71\n",
    "\n",
    "* Ridge\n",
    "Score: 0.71\n",
    "\n",
    "* Decision Tree Regressor\n",
    "Score: 0.82\n",
    "\n",
    "* Random Forest Regressor\n",
    "Score: 0.75\n",
    "\n",
    "* SVM\n",
    "Score: -0.09\n",
    "\n",
    "* KNN\n",
    "Score: -1.43\n",
    "-------------------------------------------\n",
    "Scalated Data\n",
    "* Liner Regression\n",
    "Score: 0.71\n",
    "\n",
    "* Polynomial Regression\n",
    "Score: 0.80\n",
    "\n",
    "* Lasso\n",
    "Score: -3.63\n",
    "\n",
    "* Ridge\n",
    "Score: 0.71\n",
    "\n",
    "* Decision Tree Regressor\n",
    "Score: 0.82\n",
    "\n",
    "* Random Forest Regressor\n",
    "Score: 0.75\n",
    "\n",
    "* SVM\n",
    "Score: 0.81\n",
    "\n",
    "* KNN\n",
    "Score: 0.39"
   ]
  },
  {
   "cell_type": "markdown",
   "metadata": {},
   "source": [
    "Basing ourselves in the Score of each model (which is basically the R2Score), we could choose the standarized Decision Tree Regressor data model as our main model, nonetheless we will grab the Top performing models and make a grid search to each one to see if we can improe their scores."
   ]
  },
  {
   "cell_type": "markdown",
   "metadata": {},
   "source": [
    "### Grid Search Decission Tree Resgressor"
   ]
  },
  {
   "cell_type": "code",
   "execution_count": 168,
   "metadata": {},
   "outputs": [
    {
     "data": {
      "text/plain": [
       "GridSearchCV(cv=10, estimator=DecisionTreeRegressor(), n_jobs=-1,\n",
       "             param_grid={'max_depth': [3, 5, 10, 15, 20],\n",
       "                         'max_features': [3, 4, 6, 8],\n",
       "                         'min_samples_split': range(2, 10)})"
      ]
     },
     "execution_count": 168,
     "metadata": {},
     "output_type": "execute_result"
    }
   ],
   "source": [
    "# code gridsearch modelo 1\n",
    "\n",
    "parameters = {\"max_depth\":[3,5,10,15,20], \"max_features\":[3,4,6,8], \"min_samples_split\":range(2,10)}\n",
    "\n",
    "dtr = DecisionTreeRegressor()\n",
    "\n",
    "regressor = GridSearchCV(estimator = dtr,\n",
    "                  param_grid = parameters,\n",
    "                  n_jobs = -1,\n",
    "                  cv = 10)\n",
    "\n",
    "regressor.fit(X_train, y_train)"
   ]
  },
  {
   "cell_type": "code",
   "execution_count": 169,
   "metadata": {},
   "outputs": [
    {
     "data": {
      "text/plain": [
       "array([-0.87801169,  0.71251679, -0.88560459, ..., -0.21400611,\n",
       "       -0.0885658 , -0.4917497 ])"
      ]
     },
     "execution_count": 169,
     "metadata": {},
     "output_type": "execute_result"
    }
   ],
   "source": [
    "regressor.best_estimator_.predict(X)"
   ]
  },
  {
   "cell_type": "code",
   "execution_count": 170,
   "metadata": {},
   "outputs": [
    {
     "name": "stdout",
     "output_type": "stream",
     "text": [
      "{'max_depth': 10, 'max_features': 4, 'min_samples_split': 7}\n",
      "0.847377333762535\n"
     ]
    }
   ],
   "source": [
    "print(regressor.best_params_)\n",
    "print(regressor.best_score_)"
   ]
  },
  {
   "cell_type": "markdown",
   "metadata": {},
   "source": [
    "### Grid Search Polynomial Regression"
   ]
  },
  {
   "cell_type": "code",
   "execution_count": 171,
   "metadata": {},
   "outputs": [
    {
     "data": {
      "text/plain": [
       "GridSearchCV(cv=10,\n",
       "             estimator=Pipeline(steps=[('polynomialfeatures',\n",
       "                                        PolynomialFeatures()),\n",
       "                                       ('linearregression',\n",
       "                                        LinearRegression())]),\n",
       "             n_jobs=7,\n",
       "             param_grid={'linearregression__fit_intercept': [True, False],\n",
       "                         'linearregression__normalize': [True, False],\n",
       "                         'polynomialfeatures__degree': array([0, 1, 2, 3, 4, 5, 6, 7, 8, 9])},\n",
       "             scoring='neg_mean_squared_error')"
      ]
     },
     "execution_count": 171,
     "metadata": {},
     "output_type": "execute_result"
    }
   ],
   "source": [
    "# code gridsearch modelo 3\n",
    "from sklearn.pipeline import make_pipeline\n",
    "\n",
    "def PolynomialRegression(degree=2, **kwargs):\n",
    "    return make_pipeline(PolynomialFeatures(degree), LinearRegression(**kwargs))\n",
    "\n",
    "parameters = {'polynomialfeatures__degree': np.arange(10), 'linearregression__fit_intercept': [True, False], 'linearregression__normalize': [True, False]}\n",
    "\n",
    "poly_grid = GridSearchCV(estimator=PolynomialRegression(), param_grid = parameters, cv=10, scoring='neg_mean_squared_error',n_jobs=7)\n",
    "\n",
    "poly_grid.fit(X_train,y_train)"
   ]
  },
  {
   "cell_type": "code",
   "execution_count": 172,
   "metadata": {},
   "outputs": [
    {
     "data": {
      "text/plain": [
       "array([-0.85524821,  0.98290229, -0.90881741, ...,  0.0194999 ,\n",
       "       -0.23763347, -0.38129139])"
      ]
     },
     "execution_count": 172,
     "metadata": {},
     "output_type": "execute_result"
    }
   ],
   "source": [
    "poly_grid.best_estimator_.predict(X)"
   ]
  },
  {
   "cell_type": "code",
   "execution_count": 173,
   "metadata": {},
   "outputs": [
    {
     "name": "stdout",
     "output_type": "stream",
     "text": [
      "{'linearregression__fit_intercept': True, 'linearregression__normalize': False, 'polynomialfeatures__degree': 5}\n",
      "-0.173031935582509\n"
     ]
    }
   ],
   "source": [
    "print(poly_grid.best_params_)\n",
    "print(poly_grid.best_score_)"
   ]
  },
  {
   "cell_type": "markdown",
   "metadata": {},
   "source": [
    "### Grid Search Random Forest"
   ]
  },
  {
   "cell_type": "code",
   "execution_count": 174,
   "metadata": {},
   "outputs": [
    {
     "data": {
      "text/plain": [
       "GridSearchCV(cv=3, estimator=RandomForestRegressor(), n_jobs=-1,\n",
       "             param_grid={'bootstrap': [True], 'max_depth': [80, 90, 100, 110],\n",
       "                         'max_features': [2, 3], 'min_samples_leaf': [3, 4, 5],\n",
       "                         'min_samples_split': [8, 10, 12],\n",
       "                         'n_estimators': [100, 200, 300, 1000]})"
      ]
     },
     "execution_count": 174,
     "metadata": {},
     "output_type": "execute_result"
    }
   ],
   "source": [
    "# code gridsearch modelo 4\n",
    "parameters = param_grid = {\n",
    "    'bootstrap': [True],\n",
    "    'max_depth': [80, 90, 100, 110],\n",
    "    'max_features': [2, 3],\n",
    "    'min_samples_leaf': [3, 4, 5],\n",
    "    'min_samples_split': [8, 10, 12],\n",
    "    'n_estimators': [100, 200, 300, 1000]\n",
    "}\n",
    "\n",
    "rf = RandomForestRegressor()\n",
    "\n",
    "rf = GridSearchCV(estimator = rf,\n",
    "                  param_grid = parameters,\n",
    "                  n_jobs = -1,\n",
    "                  cv = 3)\n",
    "\n",
    "rf.fit(X_train, y_train)"
   ]
  },
  {
   "cell_type": "code",
   "execution_count": 175,
   "metadata": {},
   "outputs": [
    {
     "data": {
      "text/plain": [
       "array([-0.81296982,  0.71472402, -0.77011798, ..., -0.0068248 ,\n",
       "       -0.18745289, -0.17380446])"
      ]
     },
     "execution_count": 175,
     "metadata": {},
     "output_type": "execute_result"
    }
   ],
   "source": [
    "rf.best_estimator_.predict(X)"
   ]
  },
  {
   "cell_type": "code",
   "execution_count": 176,
   "metadata": {},
   "outputs": [
    {
     "name": "stdout",
     "output_type": "stream",
     "text": [
      "{'bootstrap': True, 'max_depth': 100, 'max_features': 3, 'min_samples_leaf': 3, 'min_samples_split': 8, 'n_estimators': 200}\n",
      "0.8699983674289317\n"
     ]
    }
   ],
   "source": [
    "print(rf.best_params_)\n",
    "print(rf.best_score_)"
   ]
  },
  {
   "cell_type": "markdown",
   "metadata": {},
   "source": [
    "### Grid Search SVM"
   ]
  },
  {
   "cell_type": "code",
   "execution_count": 177,
   "metadata": {},
   "outputs": [],
   "source": [
    "# code gridsearch modelo 2 - fail\n",
    "\n",
    "#modelsvr = svm.SVR()\n",
    "\n",
    "#parameters = {'kernel' : ('linear', 'poly', 'rbf', 'sigmoid'),'C' : [1,5,10],'degree' : [3,6],'coef0' : [0.01,10,0.5],'gamma' : ('auto','scale')}\n",
    "\n",
    "#grids = GridSearchCV(estimator= modelsvr,param_grid = parameters,cv=3, n_jobs=6)\n",
    "\n",
    "#grids.fit(X_train,y_train)"
   ]
  },
  {
   "cell_type": "markdown",
   "metadata": {},
   "source": [
    "The SVM Grid search unfortunatly requires a lot of processing power and freezes Visual Studio Code everytime it is ran, hence it will be commented as a reference but will not be taken into account. For future reference a higher performing system or a cloud environment would be best suited for running this grid search."
   ]
  },
  {
   "cell_type": "markdown",
   "metadata": {},
   "source": [
    "As both the Decision Tree and the Random Forest yielded imporved results with the Gridsearch, we will retrain those models with the standarized data and the parameters from the Grid Search."
   ]
  },
  {
   "cell_type": "markdown",
   "metadata": {},
   "source": [
    "### Decision Tree Regressor (improved parameters)"
   ]
  },
  {
   "cell_type": "code",
   "execution_count": 52,
   "metadata": {},
   "outputs": [
    {
     "data": {
      "text/plain": [
       "DecisionTreeRegressor(max_depth=10, max_features=4, min_samples_split=6)"
      ]
     },
     "execution_count": 52,
     "metadata": {},
     "output_type": "execute_result"
    }
   ],
   "source": [
    "dtr = DecisionTreeRegressor(max_depth= 10, max_features= 4, min_samples_split= 6)\n",
    "dtr.fit(X_train, y_train)"
   ]
  },
  {
   "cell_type": "code",
   "execution_count": 53,
   "metadata": {},
   "outputs": [
    {
     "name": "stdout",
     "output_type": "stream",
     "text": [
      "The model performance:\n",
      "-------------------------------\n",
      "SCORE: 0.8440532219209477\n",
      "MAE: 0.179611967867242\n",
      "MSE: 0.15562979979962824\n",
      "RMSE: 0.3944994294034254\n"
     ]
    }
   ],
   "source": [
    "predictions = dtr.predict(X_test)\n",
    "print('The model performance:' ) \n",
    "print('-------------------------------')\n",
    "print('SCORE:', dtr.score(X_test, y_test))\n",
    "print('MAE:', mean_absolute_error(y_test, predictions))\n",
    "print('MSE:', mean_squared_error(y_test, predictions))\n",
    "print('RMSE:', np.sqrt(mean_squared_error(y_test, predictions)))"
   ]
  },
  {
   "cell_type": "markdown",
   "metadata": {},
   "source": [
    "### Random Forest Regressor (improved parameters)"
   ]
  },
  {
   "cell_type": "code",
   "execution_count": 50,
   "metadata": {},
   "outputs": [
    {
     "data": {
      "text/plain": [
       "RandomForestRegressor(max_depth=110, max_features=3, min_samples_leaf=3,\n",
       "                      min_samples_split=8, n_estimators=200)"
      ]
     },
     "execution_count": 50,
     "metadata": {},
     "output_type": "execute_result"
    }
   ],
   "source": [
    "rf = RandomForestRegressor(bootstrap= True, max_depth= 110, max_features= 3, min_samples_leaf= 3, min_samples_split= 8, n_estimators= 200)\n",
    "rf.fit(X_train, y_train)"
   ]
  },
  {
   "cell_type": "code",
   "execution_count": 51,
   "metadata": {},
   "outputs": [
    {
     "name": "stdout",
     "output_type": "stream",
     "text": [
      "The model performance:\n",
      "-------------------------------\n",
      "SCORE: 0.8788778128609418\n",
      "MAE: 0.17414493655693764\n",
      "MSE: 0.12087599351484649\n",
      "RMSE: 0.34767225013631226\n"
     ]
    }
   ],
   "source": [
    "predictions = rf.predict(X_test)\n",
    "print('The model performance:' ) \n",
    "print('-------------------------------')\n",
    "print('SCORE:', rf.score(X_test, y_test))\n",
    "print('MAE:', mean_absolute_error(y_test, predictions))\n",
    "print('MSE:', mean_squared_error(y_test, predictions))\n",
    "print('RMSE:', np.sqrt(mean_squared_error(y_test, predictions)))"
   ]
  },
  {
   "cell_type": "markdown",
   "metadata": {},
   "source": [
    "We retrain the model with non scalated data and create a new entry for the model to test and see the results we will get from the predictions:"
   ]
  },
  {
   "cell_type": "code",
   "execution_count": 52,
   "metadata": {},
   "outputs": [],
   "source": [
    "X = df.iloc[:, :-1]\n",
    "y = df[\"charges\"]\n",
    "\n",
    "X_train, X_test, y_train, y_test = train_test_split(X,y, test_size=0.2, random_state=42)"
   ]
  },
  {
   "cell_type": "code",
   "execution_count": 53,
   "metadata": {},
   "outputs": [],
   "source": [
    "rf = RandomForestRegressor(bootstrap= True, max_depth= 110, max_features= 3, min_samples_leaf= 3, min_samples_split= 8, n_estimators= 200)\n",
    "rf.fit(X_train, y_train)\n",
    "predictions = rf.predict(X_test)"
   ]
  },
  {
   "cell_type": "code",
   "execution_count": 54,
   "metadata": {},
   "outputs": [
    {
     "data": {
      "text/plain": [
       "<PandasArray>\n",
       "[21.0, 1.0, 1.0, 25.7, 4.0]\n",
       "Length: 5, dtype: float64"
      ]
     },
     "execution_count": 54,
     "metadata": {},
     "output_type": "execute_result"
    }
   ],
   "source": [
    "test_variable = X_train.iloc[2]\n",
    "test_variable.array"
   ]
  },
  {
   "cell_type": "code",
   "execution_count": 55,
   "metadata": {},
   "outputs": [
    {
     "data": {
      "text/plain": [
       "age           21.0\n",
       "sex_male       1.0\n",
       "smoker_yes     1.0\n",
       "bmi           25.7\n",
       "children       4.0\n",
       "Name: 3586, dtype: float64"
      ]
     },
     "execution_count": 55,
     "metadata": {},
     "output_type": "execute_result"
    }
   ],
   "source": [
    "test_variable"
   ]
  },
  {
   "cell_type": "code",
   "execution_count": 56,
   "metadata": {},
   "outputs": [
    {
     "name": "stdout",
     "output_type": "stream",
     "text": [
      "New customer 1 Insurance cost: [17441.53071221]\n",
      "New customer 2 Insurance cost: [25664.17295522]\n",
      "New customer 3 Insurance cost: [16482.60477015]\n"
     ]
    }
   ],
   "source": [
    "New_customer_1= [[30, 0, 1, 21, 3]]\n",
    "print(\"New customer 1 Insurance cost:\", rf.predict(New_customer_1))\n",
    "\n",
    "New_customer_2= [[65, 0, 1, 21, 3]]\n",
    "print(\"New customer 2 Insurance cost:\", rf.predict(New_customer_2))\n",
    "\n",
    "New_customer_2= [[65, 0, 0, 21, 3]]\n",
    "print(\"New customer 3 Insurance cost:\", rf.predict(New_customer_2))"
   ]
  },
  {
   "cell_type": "code",
   "execution_count": 64,
   "metadata": {},
   "outputs": [],
   "source": [
    "from sklearn import model_selection\n",
    "import pickle\n",
    "model = rf\n",
    "#  Save Model Using Pickle\n",
    "# We save the train Random Forest Regressor model as final_model_pkl\n",
    "with open('../model/final_model_pkl', 'wb') as files:\n",
    "    pickle.dump(model, files)\n"
   ]
  },
  {
   "cell_type": "markdown",
   "metadata": {},
   "source": [
    "We do a test loading the model to see if it works and yields similar results"
   ]
  },
  {
   "cell_type": "code",
   "execution_count": 65,
   "metadata": {},
   "outputs": [],
   "source": [
    "# load saved model\n",
    "with open('../model/final_model_pkl' , 'rb') as f:\n",
    "    rf2 = pickle.load(f)"
   ]
  },
  {
   "cell_type": "code",
   "execution_count": 66,
   "metadata": {},
   "outputs": [
    {
     "data": {
      "text/plain": [
       "array([17441.53071221])"
      ]
     },
     "execution_count": 66,
     "metadata": {},
     "output_type": "execute_result"
    }
   ],
   "source": [
    "rf2.predict(New_customer_1) #Same result"
   ]
  }
 ],
 "metadata": {
  "interpreter": {
   "hash": "e7f7b69009e2f41cf6beeaf44bfc07752cdfb67a0c132a9dee11bcd8933cf835"
  },
  "kernelspec": {
   "display_name": "Python 3.7.4 64-bit",
   "language": "python",
   "name": "python3"
  },
  "language_info": {
   "codemirror_mode": {
    "name": "ipython",
    "version": 3
   },
   "file_extension": ".py",
   "mimetype": "text/x-python",
   "name": "python",
   "nbconvert_exporter": "python",
   "pygments_lexer": "ipython3",
   "version": "3.7.4"
  },
  "orig_nbformat": 4
 },
 "nbformat": 4,
 "nbformat_minor": 2
}
